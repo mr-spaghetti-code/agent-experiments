{
 "cells": [
  {
   "cell_type": "markdown",
   "metadata": {},
   "source": [
    "# Install Autogen"
   ]
  },
  {
   "cell_type": "code",
   "execution_count": null,
   "metadata": {},
   "outputs": [],
   "source": [
    "!pip install pyautogen"
   ]
  },
  {
   "cell_type": "markdown",
   "metadata": {},
   "source": [
    "# Instantiate Agents"
   ]
  },
  {
   "cell_type": "code",
   "execution_count": null,
   "metadata": {},
   "outputs": [],
   "source": [
    "import autogen\n",
    "\n",
    "config_list_gpt4 = [{\n",
    "    \"model\": \"gpt-4\",\n",
    "    \"api_key\": \"\"\n",
    "}\n",
    "]\n",
    "\n",
    "gpt4_config = {\n",
    "    \"seed\": 42,\n",
    "    \"temperature\": 0,\n",
    "    \"config_list\": config_list_gpt4,\n",
    "    \"request_timeout\": 120,\n",
    "}\n",
    "\n",
    "## Agents:\n",
    "# Planner\n",
    "# Hipster\n",
    "# Musicologist\n",
    "# Recommender\n",
    "# Critic\n",
    "\n",
    "\n",
    "\n",
    "user_proxy = autogen.UserProxyAgent(\n",
    "    name=\"Admin\",\n",
    "    system_message=\"A human admin. Interact with the planner to discuss the plan. Plan execution needs to be approved by this admin.\",\n",
    "    code_execution_config=False,\n",
    "    )\n",
    "\n",
    "\n",
    "\n",
    "\n",
    "hispter = autogen.AssistantAgent(\n",
    "    name=\"hispter\",\n",
    "    llm_config=gpt4_config,\n",
    "    system_message='''Hispter. Work with Recommender to suggest music to Admin that is less well known and more obscure.\n",
    "''',\n",
    ")\n",
    "\n",
    "musicologist = autogen.AssistantAgent(\n",
    "    name=\"musicologist\",\n",
    "    llm_config=gpt4_config,\n",
    "    system_message='''Musicologist. Work with Recommender to suggest music to Admin that is musically and historically relevant.\n",
    "    Incorporate music theory and history into learning content for Admin. Write short essays about key concepts that will help Admin understand the genre, music, or artist.\n",
    "''',\n",
    ")\n",
    "\n",
    "planner = autogen.AssistantAgent(\n",
    "    name=\"Planner\",\n",
    "    llm_config=gpt4_config,\n",
    "    system_message='''Planner. Suggest a plan. Revise the plan based on feedback from Admin and Critic, until Recommender approval.\n",
    "    Explain the plan first.  Be clear which step is performed by which agent.\n",
    "''',\n",
    ")\n",
    "\n",
    "recommender = autogen.AssistantAgent(\n",
    "    name=\"Recommender\",\n",
    "    llm_config=gpt4_config,\n",
    "    system_message='''Recommender. You follow an approved plan. You are a music expert who can teach Admin about new genres, artists, or tracks.\n",
    "    You are ultimately responsible for providing the best content to Admin based on their request, preferences, taste.\n",
    "    Make suggestions based on feedback from Admin, Critic, Hipster, and Musicologist.\n",
    "'''\n",
    ")\n",
    "\n",
    "critic = autogen.AssistantAgent(\n",
    "    name=\"Critic\",\n",
    "    system_message=\"Critic. Double check plan and claims from other agents and provide feedback. You ensure that the Admin's request is satisfied.\",\n",
    "    llm_config=gpt4_config,\n",
    ")\n",
    "\n",
    "groupchat = autogen.GroupChat(agents=[\n",
    "    user_proxy,\n",
    "    hispter,\n",
    "    musicologist,\n",
    "    planner,\n",
    "    recommender,\n",
    "    critic,\n",
    "], messages=[], max_round=50)\n",
    "manager = autogen.GroupChatManager(groupchat=groupchat, llm_config=gpt4_config)\n"
   ]
  },
  {
   "cell_type": "markdown",
   "metadata": {},
   "source": [
    "# Start Chat"
   ]
  },
  {
   "cell_type": "code",
   "execution_count": null,
   "metadata": {},
   "outputs": [],
   "source": [
    "user_proxy.initiate_chat(\n",
    "    manager,\n",
    "    message=\"\"\"\n",
    "I want to learn more about Japanese ambient music like St. Giga.\n",
    "Give me a learning syllabus to learn about this genre with specific music I should listen to and content for me to read.\n",
    "\"\"\",\n",
    ")\n"
   ]
  }
 ],
 "metadata": {
  "language_info": {
   "name": "python"
  },
  "orig_nbformat": 4
 },
 "nbformat": 4,
 "nbformat_minor": 2
}
